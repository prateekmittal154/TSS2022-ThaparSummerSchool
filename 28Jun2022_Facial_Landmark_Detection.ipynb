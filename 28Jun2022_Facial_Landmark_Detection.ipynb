{
  "nbformat": 4,
  "nbformat_minor": 0,
  "metadata": {
    "colab": {
      "name": "28Jun2022 Facial Landmark Detection.ipynb",
      "provenance": [],
      "authorship_tag": "ABX9TyOOnKVjEn6QQaAkfG35zpX3",
      "include_colab_link": true
    },
    "kernelspec": {
      "name": "python3",
      "display_name": "Python 3"
    },
    "language_info": {
      "name": "python"
    }
  },
  "cells": [
    {
      "cell_type": "markdown",
      "metadata": {
        "id": "view-in-github",
        "colab_type": "text"
      },
      "source": [
        "<a href=\"https://colab.research.google.com/github/sahil301290/TSS2022-ThaparSummerSchool/blob/main/28Jun2022_Facial_Landmark_Detection.ipynb\" target=\"_parent\"><img src=\"https://colab.research.google.com/assets/colab-badge.svg\" alt=\"Open In Colab\"/></a>"
      ]
    },
    {
      "cell_type": "markdown",
      "source": [
        "# **Facial Landmark Detection with Dlib**"
      ],
      "metadata": {
        "id": "NmotsnVRs6fX"
      }
    },
    {
      "cell_type": "markdown",
      "source": [
        "###**1. Importing libraries and dataset**"
      ],
      "metadata": {
        "id": "hq2SFgdytXpx"
      }
    },
    {
      "cell_type": "markdown",
      "source": [
        "###**1.1 Importing libraries**"
      ],
      "metadata": {
        "id": "OmHySxgbtq60"
      }
    },
    {
      "cell_type": "code",
      "execution_count": null,
      "metadata": {
        "id": "g9995zRYsqek"
      },
      "outputs": [],
      "source": [
        "import cv2\n",
        "import dlib\n",
        "import numpy as np\n",
        "from matplotlib import pyplot as plt"
      ]
    },
    {
      "cell_type": "markdown",
      "source": [
        "###**1.2 Define our imshow function**"
      ],
      "metadata": {
        "id": "3uyJoQFwtvZ1"
      }
    },
    {
      "cell_type": "code",
      "source": [
        "def imshow(title = \"Image\", image = None, size = 10):\n",
        "    w, h = image.shape[0], image.shape[1]\n",
        "    aspect_ratio = w/h\n",
        "    plt.figure(figsize=(size * aspect_ratio,size))\n",
        "    plt.imshow(cv2.cvtColor(image, cv2.COLOR_BGR2RGB))\n",
        "    plt.title(title)\n",
        "    plt.show()"
      ],
      "metadata": {
        "id": "oUpcGirqtP8c"
      },
      "execution_count": null,
      "outputs": []
    },
    {
      "cell_type": "markdown",
      "source": [
        "###**1.3 Mount Drive**"
      ],
      "metadata": {
        "id": "gB7i5fHw35iT"
      }
    },
    {
      "cell_type": "code",
      "source": [
        "from google.colab import drive\n",
        "drive.mount('/content/drive/')"
      ],
      "metadata": {
        "id": "8QGkyDeM4AUs"
      },
      "execution_count": null,
      "outputs": []
    },
    {
      "cell_type": "markdown",
      "source": [
        "###**1.4 Download Facial landmark model and unzipping dataset**"
      ],
      "metadata": {
        "id": "rIcqOyO9uLwn"
      }
    },
    {
      "cell_type": "code",
      "source": [
        "!wget https://moderncomputervision.s3.eu-west-2.amazonaws.com/shape_predictor_68_face_landmarks.zip\n",
        "!unzip '/content/drive/MyDrive/TSS2022_Datasets/sahil.zip'\n",
        "!unzip -qq shape_predictor_68_face_landmarks.zip"
      ],
      "metadata": {
        "id": "s-dXoiD4uH5j"
      },
      "execution_count": null,
      "outputs": []
    },
    {
      "cell_type": "markdown",
      "source": [
        "###**2. Facial Landmark Detection**"
      ],
      "metadata": {
        "id": "2MoOZYcu0qWk"
      }
    },
    {
      "cell_type": "markdown",
      "source": [
        "###**2.1 Defining detector and predictor**"
      ],
      "metadata": {
        "id": "yfMK59wd0480"
      }
    },
    {
      "cell_type": "code",
      "source": [
        "PREDICTOR_PATH = \"shape_predictor_68_face_landmarks.dat\"\n",
        "predictor = dlib.shape_predictor(PREDICTOR_PATH)\n",
        "detector = dlib.get_frontal_face_detector()"
      ],
      "metadata": {
        "id": "wjSEhUcI019Z"
      },
      "execution_count": null,
      "outputs": []
    },
    {
      "cell_type": "markdown",
      "source": [
        "###**2.2 Exception Handling**"
      ],
      "metadata": {
        "id": "QivgIPSA1CR2"
      }
    },
    {
      "cell_type": "code",
      "source": [
        "class TooManyFaces(Exception):\n",
        "    pass\n",
        "\n",
        "class NoFaces(Exception):\n",
        "    pass"
      ],
      "metadata": {
        "id": "lYnaAgcxurHU"
      },
      "execution_count": null,
      "outputs": []
    },
    {
      "cell_type": "markdown",
      "source": [
        "###**2.3 Defining get_landmarks and annotate_landmarks function**"
      ],
      "metadata": {
        "id": "Cjq34Gqq1UJW"
      }
    },
    {
      "cell_type": "code",
      "source": [
        "def get_landmarks(im):\n",
        "    rects = detector(im, 1)\n",
        "\n",
        "    if len(rects) > 1:\n",
        "        raise TooManyFaces\n",
        "    if len(rects) == 0:\n",
        "        raise NoFaces\n",
        "\n",
        "    return np.matrix([[p.x, p.y] for p in predictor(im, rects[0]).parts()])\n",
        "\n",
        "def annotate_landmarks(im, landmarks):\n",
        "    im = im.copy()\n",
        "    for idx, point in enumerate(landmarks):\n",
        "        pos = (point[0, 0], point[0, 1])\n",
        "        cv2.putText(im, str(idx), pos,\n",
        "                    fontFace=cv2.FONT_HERSHEY_SCRIPT_SIMPLEX,\n",
        "                    fontScale=0.4,\n",
        "                    \n",
        "                    color=(0, 0, 255))\n",
        "        cv2.circle(im, pos, 3, color=(0, 255, 255))\n",
        "    return im"
      ],
      "metadata": {
        "id": "bv4DLJJl1RPF"
      },
      "execution_count": null,
      "outputs": []
    },
    {
      "cell_type": "markdown",
      "source": [
        "###**2.4 Visualizing landmarks**"
      ],
      "metadata": {
        "id": "jN_XCdlW1tQJ"
      }
    },
    {
      "cell_type": "markdown",
      "source": [
        "###**2.4.1 Use Case 1: Multiple Faces**"
      ],
      "metadata": {
        "id": "Tsnoi_W33eZK"
      }
    },
    {
      "cell_type": "code",
      "source": [
        "image = cv2.imread('/content/sahil/sahil_5.jpg')\n",
        "imshow('Original', image)\n",
        "landmarks = get_landmarks(image)\n",
        "image_with_landmarks = annotate_landmarks(image, landmarks)\n",
        "imshow('Result', image_with_landmarks)"
      ],
      "metadata": {
        "id": "xSrh7-l91Pml"
      },
      "execution_count": null,
      "outputs": []
    },
    {
      "cell_type": "markdown",
      "source": [
        "###**2.4.2 Use Case 2: Straight Face**"
      ],
      "metadata": {
        "id": "PZRDSAfp3k4_"
      }
    },
    {
      "cell_type": "code",
      "source": [
        "image = cv2.imread('/content/sahil/sahil_6.jpg')\n",
        "imshow('Original', image)\n",
        "landmarks = get_landmarks(image)\n",
        "image_with_landmarks = annotate_landmarks(image, landmarks)\n",
        "imshow('Result', image_with_landmarks)"
      ],
      "metadata": {
        "id": "Y78CNDOW3UMa"
      },
      "execution_count": null,
      "outputs": []
    },
    {
      "cell_type": "code",
      "source": [
        "print(landmarks)\n",
        "print(len(landmarks))"
      ],
      "metadata": {
        "id": "VcffXWYK2mDo"
      },
      "execution_count": null,
      "outputs": []
    },
    {
      "cell_type": "markdown",
      "source": [
        "###**2.4.3 Use Case 3: Side Face**"
      ],
      "metadata": {
        "id": "wXOyAlEC3v5N"
      }
    },
    {
      "cell_type": "code",
      "source": [
        "image = cv2.imread('/content/sahil/sahil_1.jpg')\n",
        "imshow('Original', image)\n",
        "landmarks = get_landmarks(image)\n",
        "image_with_landmarks = annotate_landmarks(image, landmarks)\n",
        "imshow('Result', image_with_landmarks)"
      ],
      "metadata": {
        "id": "KfPwkJnW2LwX"
      },
      "execution_count": null,
      "outputs": []
    }
  ]
}