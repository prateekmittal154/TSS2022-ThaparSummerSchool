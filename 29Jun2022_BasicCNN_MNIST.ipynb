{
  "nbformat": 4,
  "nbformat_minor": 0,
  "metadata": {
    "colab": {
      "name": "29Jun2022_BasicCNN_MNIST.ipynb",
      "provenance": [],
      "authorship_tag": "ABX9TyNWvT9K2Ww0I2W+ZHVy1pyA",
      "include_colab_link": true
    },
    "kernelspec": {
      "name": "python3",
      "display_name": "Python 3"
    },
    "language_info": {
      "name": "python"
    },
    "accelerator": "GPU",
    "gpuClass": "standard"
  },
  "cells": [
    {
      "cell_type": "markdown",
      "metadata": {
        "id": "view-in-github",
        "colab_type": "text"
      },
      "source": [
        "<a href=\"https://colab.research.google.com/github/sahil301290/TSS2022-ThaparSummerSchool/blob/main/29Jun2022_BasicCNN_MNIST.ipynb\" target=\"_parent\"><img src=\"https://colab.research.google.com/assets/colab-badge.svg\" alt=\"Open In Colab\"/></a>"
      ]
    },
    {
      "cell_type": "markdown",
      "source": [
        "# **Playing CNN on MNIST Dataset**"
      ],
      "metadata": {
        "id": "ZavUJwOs5WDF"
      }
    },
    {
      "cell_type": "markdown",
      "source": [
        "### **1. Import tensorflow and checking the versions**"
      ],
      "metadata": {
        "id": "XfNr6Tn85beM"
      }
    },
    {
      "cell_type": "code",
      "execution_count": 1,
      "metadata": {
        "colab": {
          "base_uri": "https://localhost:8080/"
        },
        "id": "2IzbYVj3w8Wp",
        "outputId": "bec9b65e-fc50-4a5b-946e-e93d2002f277"
      },
      "outputs": [
        {
          "output_type": "stream",
          "name": "stdout",
          "text": [
            "2.8.2\n"
          ]
        }
      ],
      "source": [
        "import tensorflow as tf\n",
        "print(tf.__version__)\n",
        "import keras"
      ]
    },
    {
      "cell_type": "markdown",
      "source": [
        "### **2. Getting the dataset**"
      ],
      "metadata": {
        "id": "3krjt6r65g5v"
      }
    },
    {
      "cell_type": "code",
      "source": [
        "mnist = tf.keras.datasets.mnist"
      ],
      "metadata": {
        "id": "6CTd6LVi4-or"
      },
      "execution_count": 2,
      "outputs": []
    },
    {
      "cell_type": "markdown",
      "source": [
        "### **3. Defining the train and test set alongwith their labels**"
      ],
      "metadata": {
        "id": "4d4Ii2_u5m6c"
      }
    },
    {
      "cell_type": "code",
      "source": [
        "(training_images, training_labels), (test_images, test_labels) = mnist.load_data()"
      ],
      "metadata": {
        "colab": {
          "base_uri": "https://localhost:8080/"
        },
        "id": "LqUIi_jA5DLP",
        "outputId": "096e9985-ba7c-4507-9075-8a4b2853f3b4"
      },
      "execution_count": 3,
      "outputs": [
        {
          "output_type": "stream",
          "name": "stdout",
          "text": [
            "Downloading data from https://storage.googleapis.com/tensorflow/tf-keras-datasets/mnist.npz\n",
            "11493376/11490434 [==============================] - 0s 0us/step\n",
            "11501568/11490434 [==============================] - 0s 0us/step\n"
          ]
        }
      ]
    },
    {
      "cell_type": "markdown",
      "source": [
        "### **4. Finding total number of images in training and test set**"
      ],
      "metadata": {
        "id": "Fr6A97F25rlL"
      }
    },
    {
      "cell_type": "code",
      "source": [
        "print(len(training_images))\n",
        "print(len(test_images))"
      ],
      "metadata": {
        "colab": {
          "base_uri": "https://localhost:8080/"
        },
        "id": "yQW8SliS5EpI",
        "outputId": "2387f8ef-e641-4082-b661-967bb59d9008"
      },
      "execution_count": 4,
      "outputs": [
        {
          "output_type": "stream",
          "name": "stdout",
          "text": [
            "60000\n",
            "10000\n"
          ]
        }
      ]
    },
    {
      "cell_type": "markdown",
      "source": [
        "### **5. Reshaping and Normalizing training and test images**"
      ],
      "metadata": {
        "id": "ECq6DmNY5vLv"
      }
    },
    {
      "cell_type": "code",
      "source": [
        "training_images = training_images.reshape(60000, 28, 28, 1)\n",
        "training_images = training_images/255.0\n",
        "test_images = test_images.reshape(10000, 28, 28, 1)\n",
        "test_images = test_images/255.0"
      ],
      "metadata": {
        "id": "2UeTOBxk5GGY"
      },
      "execution_count": 5,
      "outputs": []
    },
    {
      "cell_type": "markdown",
      "source": [
        "### **6. Defining the model**"
      ],
      "metadata": {
        "id": "I7HQsm8O5ysh"
      }
    },
    {
      "cell_type": "code",
      "source": [
        "model = tf.keras.models.Sequential([\n",
        "  tf.keras.layers.Conv2D(16,(3,3),activation = 'relu',input_shape=(28,28,1)),\n",
        "  tf.keras.layers.MaxPooling2D(2,2),\n",
        "  tf.keras.layers.Conv2D(16,(3,3),activation = 'relu'),\n",
        "  tf.keras.layers.MaxPooling2D(2,2),\n",
        "  tf.keras.layers.Flatten(),\n",
        "  tf.keras.layers.Dense(32, activation='relu'),\n",
        "  tf.keras.layers.Dense(10, activation='softmax')\n",
        "])\n",
        "model.summary()"
      ],
      "metadata": {
        "colab": {
          "base_uri": "https://localhost:8080/"
        },
        "id": "ojYPfsme5HwZ",
        "outputId": "48676291-bcf6-4f72-d501-260b62cb6cfe"
      },
      "execution_count": 6,
      "outputs": [
        {
          "output_type": "stream",
          "name": "stdout",
          "text": [
            "Model: \"sequential\"\n",
            "_________________________________________________________________\n",
            " Layer (type)                Output Shape              Param #   \n",
            "=================================================================\n",
            " conv2d (Conv2D)             (None, 26, 26, 16)        160       \n",
            "                                                                 \n",
            " max_pooling2d (MaxPooling2D  (None, 13, 13, 16)       0         \n",
            " )                                                               \n",
            "                                                                 \n",
            " conv2d_1 (Conv2D)           (None, 11, 11, 16)        2320      \n",
            "                                                                 \n",
            " max_pooling2d_1 (MaxPooling  (None, 5, 5, 16)         0         \n",
            " 2D)                                                             \n",
            "                                                                 \n",
            " flatten (Flatten)           (None, 400)               0         \n",
            "                                                                 \n",
            " dense (Dense)               (None, 32)                12832     \n",
            "                                                                 \n",
            " dense_1 (Dense)             (None, 10)                330       \n",
            "                                                                 \n",
            "=================================================================\n",
            "Total params: 15,642\n",
            "Trainable params: 15,642\n",
            "Non-trainable params: 0\n",
            "_________________________________________________________________\n"
          ]
        }
      ]
    },
    {
      "cell_type": "markdown",
      "source": [
        "### **7. Defining the callback function to stop our training once the acceptable accuracy is reached**"
      ],
      "metadata": {
        "id": "IlSPfYiG51aV"
      }
    },
    {
      "cell_type": "code",
      "source": [
        "class myCallback(tf.keras.callbacks.Callback):\n",
        "        def on_epoch_end(self, epoch, logs={}):\n",
        "            if(logs.get('accuracy') > 0.95):\n",
        "                print(\"\\nReached 95% accuracy so cancelling training!\")\n",
        "                self.model.stop_training = True\n",
        "    \n",
        "callbacks = myCallback()"
      ],
      "metadata": {
        "id": "WYd3ZrA95Jbe"
      },
      "execution_count": 7,
      "outputs": []
    },
    {
      "cell_type": "markdown",
      "source": [
        "### **8. Compiling and model training with batch size = 50, epochs = 5, and optimizer = sgd**"
      ],
      "metadata": {
        "id": "yNFUkh3T56QF"
      }
    },
    {
      "cell_type": "code",
      "source": [
        "model.compile(optimizer='sgd', loss='sparse_categorical_crossentropy', metrics=['accuracy'])\n",
        "model.fit(training_images, training_labels, batch_size = 50, epochs=5, callbacks=[callbacks])"
      ],
      "metadata": {
        "colab": {
          "base_uri": "https://localhost:8080/"
        },
        "id": "8Tm3fOAR5LQ0",
        "outputId": "8044a4e7-df75-42c4-b30c-611a38a061ca"
      },
      "execution_count": 8,
      "outputs": [
        {
          "output_type": "stream",
          "name": "stdout",
          "text": [
            "Epoch 1/5\n",
            "1200/1200 [==============================] - 14s 3ms/step - loss: 0.7887 - accuracy: 0.7575\n",
            "Epoch 2/5\n",
            "1200/1200 [==============================] - 3s 3ms/step - loss: 0.2384 - accuracy: 0.9289\n",
            "Epoch 3/5\n",
            "1198/1200 [============================>.] - ETA: 0s - loss: 0.1667 - accuracy: 0.9503\n",
            "Reached 95% accuracy so cancelling training!\n",
            "1200/1200 [==============================] - 3s 3ms/step - loss: 0.1666 - accuracy: 0.9504\n"
          ]
        },
        {
          "output_type": "execute_result",
          "data": {
            "text/plain": [
              "<keras.callbacks.History at 0x7ff7dd3c5090>"
            ]
          },
          "metadata": {},
          "execution_count": 8
        }
      ]
    },
    {
      "cell_type": "markdown",
      "source": [
        "### **9. Checking the Validation Accuracy with batch size = 50**"
      ],
      "metadata": {
        "id": "onzPpXLb59h9"
      }
    },
    {
      "cell_type": "code",
      "source": [
        "test_loss = model.evaluate(test_images, test_labels, batch_size=50)"
      ],
      "metadata": {
        "colab": {
          "base_uri": "https://localhost:8080/"
        },
        "id": "-nUlu2kX5NIg",
        "outputId": "406736f3-b9cc-490e-b94c-97e3e466177e"
      },
      "execution_count": 9,
      "outputs": [
        {
          "output_type": "stream",
          "name": "stdout",
          "text": [
            "200/200 [==============================] - 1s 2ms/step - loss: 0.1278 - accuracy: 0.9604\n"
          ]
        }
      ]
    }
  ]
}